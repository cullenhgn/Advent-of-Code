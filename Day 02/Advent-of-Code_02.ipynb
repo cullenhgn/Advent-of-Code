{
 "cells": [
  {
   "cell_type": "markdown",
   "metadata": {},
   "source": [
    "## --- Day 2: Password Philosophy ---\n",
    "\n",
    "Your flight departs in a few days from the coastal airport; the easiest way down to the coast from here is via toboggan.\n",
    "\n",
    "The shopkeeper at the North Pole Toboggan Rental Shop is having a bad day. \"Something's wrong with our computers; we can't log in!\" You ask if you can take a look.\n",
    "\n",
    "Their password database seems to be a little corrupted: some of the passwords wouldn't have been allowed by the Official Toboggan Corporate Policy that was in effect when they were chosen.\n",
    "\n",
    "To try to debug the problem, they have created a list (your puzzle input) of passwords (according to the corrupted database) and the corporate policy when that password was set.\n",
    "\n",
    "For example, suppose you have the following list:\n",
    "\n",
    "1-3 a: abcde\n",
    "<br>\n",
    "1-3 b: cdefg\n",
    "<br>\n",
    "2-9 c: ccccccccc\n",
    "<br>\n",
    "\n",
    "Each line gives the password policy and then the password. The password policy indicates the lowest and highest number of times a given letter must appear for the password to be valid. For example, 1-3 a means that the password must contain a at least 1 time and at most 3 times.\n",
    "\n",
    "In the above example, 2 passwords are valid. The middle password, cdefg, is not; it contains no instances of b, but needs at least 1. The first and third passwords are valid: they contain one a or nine c, both within the limits of their respective policies.\n",
    "\n",
    "How many passwords are valid according to their policies?"
   ]
  },
  {
   "cell_type": "code",
   "execution_count": 1,
   "metadata": {},
   "outputs": [],
   "source": [
    "# load the input data\n",
    "file = open(\"day2.txt\", 'r')\n",
    "\n",
    "# read lines into a list, remove line breaks\n",
    "lines = file.readlines()\n",
    "lines = [i.replace('\\n','') for i in lines]\n",
    "# also remove \"-\" and \":\" for easier splitting each element into a list\n",
    "lines = [i.replace('-',' ') for i in lines]\n",
    "lines = [i.replace(':','') for i in lines]"
   ]
  },
  {
   "cell_type": "code",
   "execution_count": 2,
   "metadata": {},
   "outputs": [
    {
     "name": "stdout",
     "output_type": "stream",
     "text": [
      "1 6 g ggvggbgggstg\n"
     ]
    }
   ],
   "source": [
    "print(lines[1])"
   ]
  },
  {
   "cell_type": "code",
   "execution_count": 3,
   "metadata": {},
   "outputs": [],
   "source": [
    "# create placeholder variable\n",
    "totalvalid = 0\n",
    "\n",
    "# loop through each password\n",
    "for i in lines:\n",
    "    templist = i.split()\n",
    "    count = 0\n",
    "    # count how many times the required letter is in the password\n",
    "    for j in templist[3]:\n",
    "        if j == templist[2]:\n",
    "            count += 1\n",
    "    \n",
    "    # check if the required letter meets the requirements\n",
    "    if count >= int(templist[0]) and count <= int(templist[1]):\n",
    "        totalvalid += 1"
   ]
  },
  {
   "cell_type": "code",
   "execution_count": 4,
   "metadata": {},
   "outputs": [
    {
     "name": "stdout",
     "output_type": "stream",
     "text": [
      "454\n"
     ]
    }
   ],
   "source": [
    "print(totalvalid)"
   ]
  },
  {
   "cell_type": "markdown",
   "metadata": {},
   "source": [
    "## --- Part Two ---\n",
    "\n",
    "While it appears you validated the passwords correctly, they don't seem to be what the Official Toboggan Corporate Authentication System is expecting.\n",
    "\n",
    "The shopkeeper suddenly realizes that he just accidentally explained the password policy rules from his old job at the sled rental place down the street! The Official Toboggan Corporate Policy actually works a little differently.\n",
    "\n",
    "Each policy actually describes two positions in the password, where 1 means the first character, 2 means the second character, and so on. (Be careful; Toboggan Corporate Policies have no concept of \"index zero\"!) Exactly one of these positions must contain the given letter. Other occurrences of the letter are irrelevant for the purposes of policy enforcement.\n",
    "\n",
    "Given the same example list from above:\n",
    "* 1-3 a: abcde is valid: position 1 contains a and position 3 does not.\n",
    "* 1-3 b: cdefg is invalid: neither position 1 nor position 3 contains b.\n",
    "* 2-9 c: ccccccccc is invalid: both position 2 and position 9 contain c.\n",
    "\n",
    "How many passwords are valid according to the new interpretation of the policies?"
   ]
  },
  {
   "cell_type": "code",
   "execution_count": 5,
   "metadata": {},
   "outputs": [],
   "source": [
    "# create placeholder variable\n",
    "totalvalid = 0\n",
    "\n",
    "# loop through each password\n",
    "for i in lines:\n",
    "    templist = i.split()\n",
    "    # store the string index to check if the letter is correct\n",
    "    a = int(templist[0]) - 1\n",
    "    b = int(templist[1]) - 1\n",
    "    count = 0\n",
    "    # count how many times the required letter is in the password\n",
    "    # only looking at the designated postions\n",
    "    if templist[3][a] == templist[2]:\n",
    "            count += 1\n",
    "    if templist[3][b] == templist[2]:\n",
    "            count += 1\n",
    "    \n",
    "    # check if the required letter meets the requirements\n",
    "    if count == 1:\n",
    "        totalvalid += 1"
   ]
  },
  {
   "cell_type": "code",
   "execution_count": 6,
   "metadata": {},
   "outputs": [
    {
     "name": "stdout",
     "output_type": "stream",
     "text": [
      "649\n"
     ]
    }
   ],
   "source": [
    "print(totalvalid)"
   ]
  },
  {
   "cell_type": "code",
   "execution_count": null,
   "metadata": {},
   "outputs": [],
   "source": []
  }
 ],
 "metadata": {
  "kernelspec": {
   "display_name": "Python 3",
   "language": "python",
   "name": "python3"
  },
  "language_info": {
   "codemirror_mode": {
    "name": "ipython",
    "version": 3
   },
   "file_extension": ".py",
   "mimetype": "text/x-python",
   "name": "python",
   "nbconvert_exporter": "python",
   "pygments_lexer": "ipython3",
   "version": "3.7.7"
  }
 },
 "nbformat": 4,
 "nbformat_minor": 4
}
