{
 "cells": [
  {
   "cell_type": "markdown",
   "metadata": {},
   "source": [
    "## --- Day 4: Passport Processing ---\n",
    "\n",
    "You arrive at the airport only to realize that you grabbed your North Pole Credentials instead of your passport. While these documents are extremely similar, North Pole Credentials aren't issued by a country and therefore aren't actually valid documentation for travel in most of the world.\n",
    "\n",
    "It seems like you're not the only one having problems, though; a very long line has formed for the automatic passport scanners, and the delay could upset your travel itinerary.\n",
    "\n",
    "Due to some questionable network security, you realize you might be able to solve both of these problems at the same time.\n",
    "\n",
    "The automatic passport scanners are slow because they're having trouble detecting which passports have all required fields. The expected fields are as follows:\n",
    "```\n",
    "byr (Birth Year)\n",
    "iyr (Issue Year)\n",
    "eyr (Expiration Year)\n",
    "hgt (Height)\n",
    "hcl (Hair Color)\n",
    "ecl (Eye Color)\n",
    "pid (Passport ID)\n",
    "cid (Country ID)\n",
    "```\n",
    "Passport data is validated in batch files (your puzzle input). Each passport is represented as a sequence of key:value pairs separated by spaces or newlines. Passports are separated by blank lines.\n",
    "\n",
    "Here is an example batch file containing four passports:\n",
    "```\n",
    "ecl:gry pid:860033327 eyr:2020 hcl:#fffffd\n",
    "byr:1937 iyr:2017 cid:147 hgt:183cm\n",
    "\n",
    "iyr:2013 ecl:amb cid:350 eyr:2023 pid:028048884\n",
    "hcl:#cfa07d byr:1929\n",
    "\n",
    "hcl:#ae17e1 iyr:2013\n",
    "eyr:2024\n",
    "ecl:brn pid:760753108 byr:1931\n",
    "hgt:179cm\n",
    "\n",
    "hcl:#cfa07d eyr:2025 pid:166559648\n",
    "iyr:2011 ecl:brn hgt:59in\n",
    "```\n",
    "The first passport is valid - all eight fields are present. The second passport is invalid - it is missing hgt (the Height field).\n",
    "\n",
    "The third passport is interesting; the only missing field is cid, so it looks like data from North Pole Credentials, not a passport at all! Surely, nobody would mind if you made the system temporarily ignore missing cid fields. Treat this \"passport\" as valid.\n",
    "\n",
    "The fourth passport is missing two fields, cid and byr. Missing cid is fine, but missing any other field is not, so this passport is invalid.\n",
    "\n",
    "According to the above rules, your improved system would report 2 valid passports.\n",
    "\n",
    "Count the number of valid passports - those that have all required fields. Treat cid as optional. In your batch file, how many passports are valid?"
   ]
  },
  {
   "cell_type": "code",
   "execution_count": 1,
   "metadata": {},
   "outputs": [],
   "source": [
    "# load the input data\n",
    "file = open(\"day4.txt\", 'r')\n",
    "\n",
    "# read lines into a list, remove line breaks\n",
    "lines = file.readlines()\n",
    "lines = [i.replace('\\n','') for i in lines]"
   ]
  },
  {
   "cell_type": "code",
   "execution_count": 2,
   "metadata": {},
   "outputs": [
    {
     "name": "stdout",
     "output_type": "stream",
     "text": [
      "pid:827837505 byr:1976\n",
      "hgt:187cm\n",
      "iyr:2016\n",
      "hcl:#fffffd\n",
      "eyr:2024\n",
      "\n",
      "hgt:189cm byr:1987 pid:572028668 iyr:2014 hcl:#623a2f\n",
      "eyr:2028 ecl:amb\n",
      "\n",
      "pid:#e9bf38 hcl:z iyr:2029 byr:2028 ecl:#18f71a hgt:174in eyr:2036\n"
     ]
    },
    {
     "data": {
      "text/plain": [
       "[None, None, None, None, None, None, None, None, None, None]"
      ]
     },
     "execution_count": 2,
     "metadata": {},
     "output_type": "execute_result"
    }
   ],
   "source": [
    "[print(i) for i in lines[0:10]]"
   ]
  },
  {
   "cell_type": "code",
   "execution_count": 3,
   "metadata": {},
   "outputs": [],
   "source": [
    "validpassports = 0\n",
    "d = {}\n",
    "\n",
    "for i in range(len(lines)):\n",
    "    temp = lines[i]\n",
    "    # split and add each passport category to a dictionary\n",
    "    if len(temp) > 0:\n",
    "        temp = temp.replace(\" \", \":\")\n",
    "        templist = temp.split(\":\")\n",
    "        for j in range(len(templist)):\n",
    "            if j % 2 == 0:\n",
    "                d[templist[j]] = templist[j+1]\n",
    "                \n",
    "        # for the last passport\n",
    "        if i == len(lines) - 1:\n",
    "            if len(d) == 8:\n",
    "                validpassports += 1\n",
    "            elif len(d) == 7 and \"cid\" not in d.keys():\n",
    "                validpassports +=1\n",
    "            \n",
    "    # at a new line check if the previous passport is valid and reset\n",
    "    else:\n",
    "        if len(d) == 8:\n",
    "            validpassports += 1\n",
    "        elif len(d) == 7 and \"cid\" not in d.keys():\n",
    "            validpassports +=1\n",
    "        d = {}"
   ]
  },
  {
   "cell_type": "code",
   "execution_count": 4,
   "metadata": {},
   "outputs": [
    {
     "name": "stdout",
     "output_type": "stream",
     "text": [
      "228\n"
     ]
    }
   ],
   "source": [
    "print(validpassports)"
   ]
  },
  {
   "cell_type": "markdown",
   "metadata": {},
   "source": [
    "## --- Part Two ---\n",
    "\n",
    "The line is moving more quickly now, but you overhear airport security talking about how passports with invalid data are getting through. Better add some data validation, quick!\n",
    "\n",
    "You can continue to ignore the cid field, but each other field has strict rules about what values are valid for automatic validation:\n",
    "```\n",
    "byr (Birth Year) - four digits; at least 1920 and at most 2002.\n",
    "iyr (Issue Year) - four digits; at least 2010 and at most 2020.\n",
    "eyr (Expiration Year) - four digits; at least 2020 and at most 2030.\n",
    "hgt (Height) - a number followed by either cm or in:\n",
    "If cm, the number must be at least 150 and at most 193.\n",
    "If in, the number must be at least 59 and at most 76.\n",
    "hcl (Hair Color) - a # followed by exactly six characters 0-9 or a-f.\n",
    "ecl (Eye Color) - exactly one of: amb blu brn gry grn hzl oth.\n",
    "pid (Passport ID) - a nine-digit number, including leading zeroes.\n",
    "cid (Country ID) - ignored, missing or not.\n",
    "```\n",
    "Your job is to count the passports where all required fields are both present and valid according to the above rules. Here are some example values:\n",
    "```\n",
    "byr valid:   2002\n",
    "byr invalid: 2003\n",
    "\n",
    "hgt valid:   60in\n",
    "hgt valid:   190cm\n",
    "hgt invalid: 190in\n",
    "hgt invalid: 190\n",
    "\n",
    "hcl valid:   #123abc\n",
    "hcl invalid: #123abz\n",
    "hcl invalid: 123abc\n",
    "\n",
    "ecl valid:   brn\n",
    "ecl invalid: wat\n",
    "\n",
    "pid valid:   000000001\n",
    "pid invalid: 0123456789\n",
    "```\n",
    "Here are some invalid passports:\n",
    "```\n",
    "eyr:1972 cid:100\n",
    "hcl:#18171d ecl:amb hgt:170 pid:186cm iyr:2018 byr:1926\n",
    "\n",
    "iyr:2019\n",
    "hcl:#602927 eyr:1967 hgt:170cm\n",
    "ecl:grn pid:012533040 byr:1946\n",
    "\n",
    "hcl:dab227 iyr:2012\n",
    "ecl:brn hgt:182cm pid:021572410 eyr:2020 byr:1992 cid:277\n",
    "\n",
    "hgt:59cm ecl:zzz\n",
    "eyr:2038 hcl:74454a iyr:2023\n",
    "pid:3556412378 byr:2007\n",
    "```\n",
    "Here are some valid passports:\n",
    "```\n",
    "pid:087499704 hgt:74in ecl:grn iyr:2012 eyr:2030 byr:1980\n",
    "hcl:#623a2f\n",
    "\n",
    "eyr:2029 ecl:blu cid:129 byr:1989\n",
    "iyr:2014 pid:896056539 hcl:#a97842 hgt:165cm\n",
    "\n",
    "hcl:#888785\n",
    "hgt:164cm byr:2001 iyr:2015 cid:88\n",
    "pid:545766238 ecl:hzl\n",
    "eyr:2022\n",
    "\n",
    "iyr:2010 hgt:158cm hcl:#b6652a ecl:blu byr:1944 eyr:2021 pid:093154719\n",
    "```\n",
    "Count the number of valid passports - those that have all required fields and valid values. Continue to treat cid as optional. In your batch file, how many passports are valid?"
   ]
  },
  {
   "cell_type": "code",
   "execution_count": 5,
   "metadata": {},
   "outputs": [],
   "source": [
    "def passportcheck(inputdict):\n",
    "    ecl_check = [\"amb\", \"blu\", \"brn\", \"gry\", \"grn\", \"hzl\", \"oth\"]\n",
    "    \n",
    "    check = True\n",
    "    \n",
    "    if len(d[\"byr\"]) != 4 or int(d[\"byr\"]) < 1920 or int(d[\"byr\"]) > 2002:\n",
    "        check = False\n",
    "    if len(d[\"iyr\"]) != 4 or int(d[\"iyr\"]) < 2010 or int(d[\"iyr\"]) > 2020:\n",
    "        check = False\n",
    "    if len(d[\"eyr\"]) != 4 or int(d[\"eyr\"]) < 2020 or int(d[\"eyr\"]) > 2030:\n",
    "        check = False\n",
    "    if d[\"hgt\"][-2:] != \"in\" and d[\"hgt\"][-2:] != \"cm\":\n",
    "        check = False\n",
    "    if d[\"hgt\"][-2:] == \"in\" and (int(d[\"hgt\"][:-2]) < 59 or int(d[\"hgt\"][:-2]) > 76):\n",
    "        check = False\n",
    "    if d[\"hgt\"][-2:] == \"cm\" and (int(d[\"hgt\"][:-2]) < 150 or int(d[\"hgt\"][:-2]) > 193):\n",
    "        check = False\n",
    "    if d[\"hcl\"][0] != \"#\" or d[\"hcl\"][1:].isalnum() == False or len(d[\"hcl\"][1:]) != 6:\n",
    "        check = False\n",
    "    if d[\"ecl\"] not in ecl_check:\n",
    "        check = False\n",
    "    if len(d[\"pid\"]) != 9 or d[\"pid\"].isdigit() == False:\n",
    "        check = False\n",
    "        \n",
    "    return(check)"
   ]
  },
  {
   "cell_type": "code",
   "execution_count": 6,
   "metadata": {},
   "outputs": [
    {
     "name": "stdout",
     "output_type": "stream",
     "text": [
      "175\n"
     ]
    }
   ],
   "source": [
    "validpassports = 0\n",
    "d = {}\n",
    "\n",
    "\n",
    "for i in range(len(lines)):\n",
    "    temp = lines[i]\n",
    "    # split and add each passport category to a dictionary\n",
    "    if len(temp) > 0:\n",
    "        temp = temp.replace(\" \", \":\")\n",
    "        templist = temp.split(\":\")\n",
    "        for j in range(len(templist)):\n",
    "            if j % 2 == 0:\n",
    "                d[templist[j]] = templist[j+1]\n",
    "                \n",
    "        # for the last passport\n",
    "        if i == len(lines) - 1:\n",
    "            if len(d) == 8:\n",
    "                if passportcheck(d):\n",
    "                    validpassports += 1\n",
    "            elif len(d) == 7 and \"cid\" not in d.keys():\n",
    "                if passportcheck(d):\n",
    "                    validpassports += 1\n",
    "            \n",
    "    # at a new line check if the previous passport is valid and reset\n",
    "    else:\n",
    "        if len(d) == 8:\n",
    "            if passportcheck(d):\n",
    "                validpassports += 1\n",
    "        elif len(d) == 7 and \"cid\" not in d.keys():\n",
    "            if passportcheck(d):\n",
    "                validpassports += 1\n",
    "        d = {}\n",
    "        \n",
    "print(validpassports)"
   ]
  },
  {
   "cell_type": "code",
   "execution_count": null,
   "metadata": {},
   "outputs": [],
   "source": []
  }
 ],
 "metadata": {
  "kernelspec": {
   "display_name": "Python 3",
   "language": "python",
   "name": "python3"
  },
  "language_info": {
   "codemirror_mode": {
    "name": "ipython",
    "version": 3
   },
   "file_extension": ".py",
   "mimetype": "text/x-python",
   "name": "python",
   "nbconvert_exporter": "python",
   "pygments_lexer": "ipython3",
   "version": "3.7.7"
  }
 },
 "nbformat": 4,
 "nbformat_minor": 4
}
