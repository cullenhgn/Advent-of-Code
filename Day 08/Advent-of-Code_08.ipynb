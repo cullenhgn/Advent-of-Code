{
 "cells": [
  {
   "cell_type": "markdown",
   "metadata": {},
   "source": [
    "## --- Day 8: Handheld Halting ---\n",
    "\n",
    "Your flight to the major airline hub reaches cruising altitude without incident. While you consider checking the in-flight menu for one of those drinks that come with a little umbrella, you are interrupted by the kid sitting next to you.\n",
    "\n",
    "Their handheld game console won't turn on! They ask if you can take a look.\n",
    "\n",
    "You narrow the problem down to a strange infinite loop in the boot code (your puzzle input) of the device. You should be able to fix it, but first you need to be able to run the code in isolation.\n",
    "\n",
    "The boot code is represented as a text file with one instruction per line of text. Each instruction consists of an operation (acc, jmp, or nop) and an argument (a signed number like +4 or -20).\n",
    "* acc increases or decreases a single global value called the accumulator by the value given in the argument. For example, acc +7 would increase the accumulator by 7. The accumulator starts at 0. After an acc instruction, the instruction immediately below it is executed next.\n",
    "* jmp jumps to a new instruction relative to itself. The next instruction to execute is found using the argument as an offset from the jmp instruction; for example, jmp +2 would skip the next instruction, jmp +1 would continue to the instruction immediately below it, and jmp -20 would cause the instruction 20 lines above to be executed next.\n",
    "* nop stands for No OPeration - it does nothing. The instruction immediately below it is executed next.\n",
    "\n",
    "For example, consider the following program:\n",
    "```\n",
    "nop +0\n",
    "acc +1\n",
    "jmp +4\n",
    "acc +3\n",
    "jmp -3\n",
    "acc -99\n",
    "acc +1\n",
    "jmp -4\n",
    "acc +6\n",
    "```\n",
    "These instructions are visited in this order:\n",
    "```\n",
    "nop +0  | 1\n",
    "acc +1  | 2, 8(!)\n",
    "jmp +4  | 3\n",
    "acc +3  | 6\n",
    "jmp -3  | 7\n",
    "acc -99 |\n",
    "acc +1  | 4\n",
    "jmp -4  | 5\n",
    "acc +6  |\n",
    "```\n",
    "\n",
    "First, the nop +0 does nothing. Then, the accumulator is increased from 0 to 1 (acc +1) and jmp +4 sets the next instruction to the other acc +1 near the bottom. After it increases the accumulator from 1 to 2, jmp -4 executes, setting the next instruction to the only acc +3. It sets the accumulator to 5, and jmp -3 causes the program to continue back at the first acc +1.\n",
    "\n",
    "This is an infinite loop: with this sequence of jumps, the program will run forever. The moment the program tries to run any instruction a second time, you know it will never terminate.\n",
    "\n",
    "Immediately before the program would run an instruction a second time, the value in the accumulator is 5.\n",
    "\n",
    "Run your copy of the boot code. Immediately before any instruction is executed a second time, what value is in the accumulator?"
   ]
  },
  {
   "cell_type": "code",
   "execution_count": 1,
   "metadata": {},
   "outputs": [],
   "source": [
    "file = open(\"day8.txt\", \"r\")\n",
    "\n",
    "lines = file.readlines()\n",
    "lines = [i.replace(\"\\n\", \"\") for i in lines]\n",
    "lines = [i.replace(\"+\", \"\") for i in lines]"
   ]
  },
  {
   "cell_type": "code",
   "execution_count": 2,
   "metadata": {},
   "outputs": [
    {
     "name": "stdout",
     "output_type": "stream",
     "text": [
      "['nop 456', 'nop 38', 'acc 9', 'jmp 153', 'acc 15', 'nop 560', 'jmp 452', 'acc 26', 'acc 42', 'jmp 376']\n"
     ]
    }
   ],
   "source": [
    "print(lines[0:10])"
   ]
  },
  {
   "cell_type": "code",
   "execution_count": 3,
   "metadata": {},
   "outputs": [
    {
     "name": "stdout",
     "output_type": "stream",
     "text": [
      "1087\n"
     ]
    }
   ],
   "source": [
    "# whenever a command is executed add 1 to its place on the list\n",
    "# when a command == 2 stop and report the acc value\n",
    "cmd_list = [0] * len(lines)\n",
    "\n",
    "i = 0\n",
    "acc = 0\n",
    "\n",
    "while 2 not in cmd_list:\n",
    "    # add current cmd to the cmd_list\n",
    "    cmd_list[i] += 1\n",
    "    cmd = lines[i].split()\n",
    "    \n",
    "    if cmd[0] == \"nop\":\n",
    "        i += 1\n",
    "    elif cmd[0] == \"acc\":\n",
    "        i += 1\n",
    "        # double check this isnt the 2nd run for the cmd\n",
    "        if 2 not in cmd_list:\n",
    "            acc += int(cmd[1])\n",
    "    elif cmd[0] == \"jmp\":\n",
    "        i += int(cmd[1])\n",
    "        \n",
    "print(acc)"
   ]
  },
  {
   "cell_type": "markdown",
   "metadata": {},
   "source": [
    "## --- Part Two ---\n",
    "\n",
    "After some careful analysis, you believe that exactly one instruction is corrupted.\n",
    "\n",
    "Somewhere in the program, either a jmp is supposed to be a nop, or a nop is supposed to be a jmp. (No acc instructions were harmed in the corruption of this boot code.)\n",
    "\n",
    "The program is supposed to terminate by attempting to execute an instruction immediately after the last instruction in the file. By changing exactly one jmp or nop, you can repair the boot code and make it terminate correctly.\n",
    "\n",
    "For example, consider the same program from above:\n",
    "```\n",
    "nop +0\n",
    "acc +1\n",
    "jmp +4\n",
    "acc +3\n",
    "jmp -3\n",
    "acc -99\n",
    "acc +1\n",
    "jmp -4\n",
    "acc +6\n",
    "```\n",
    "If you change the first instruction from nop +0 to jmp +0, it would create a single-instruction infinite loop, never leaving that instruction. If you change almost any of the jmp instructions, the program will still eventually find another jmp instruction and loop forever.\n",
    "\n",
    "However, if you change the second-to-last instruction (from jmp -4 to nop -4), the program terminates! The instructions are visited in this order:\n",
    "```\n",
    "nop +0  | 1\n",
    "acc +1  | 2\n",
    "jmp +4  | 3\n",
    "acc +3  |\n",
    "jmp -3  |\n",
    "acc -99 |\n",
    "acc +1  | 4\n",
    "nop -4  | 5\n",
    "acc +6  | 6\n",
    "```\n",
    "After the last instruction (acc +6), the program terminates by attempting to run the instruction below the last instruction in the file. With this change, after the program terminates, the accumulator contains the value 8 (acc +1, acc +1, acc +6).\n",
    "\n",
    "Fix the program so that it terminates normally by changing exactly one jmp (to nop) or nop (to jmp). What is the value of the accumulator after the program terminates?"
   ]
  },
  {
   "cell_type": "code",
   "execution_count": 4,
   "metadata": {},
   "outputs": [
    {
     "ename": "IndexError",
     "evalue": "list index out of range",
     "output_type": "error",
     "traceback": [
      "\u001b[0;31m---------------------------------------------------------------------------\u001b[0m",
      "\u001b[0;31mIndexError\u001b[0m                                Traceback (most recent call last)",
      "\u001b[0;32m<ipython-input-4-9cbc5b36ddb4>\u001b[0m in \u001b[0;36m<module>\u001b[0;34m\u001b[0m\n\u001b[1;32m     32\u001b[0m     \u001b[0;32mwhile\u001b[0m \u001b[0;36m2\u001b[0m \u001b[0;32mnot\u001b[0m \u001b[0;32min\u001b[0m \u001b[0mcmd_list\u001b[0m\u001b[0;34m:\u001b[0m\u001b[0;34m\u001b[0m\u001b[0;34m\u001b[0m\u001b[0m\n\u001b[1;32m     33\u001b[0m         \u001b[0;31m# add current cmd to the cmd_list\u001b[0m\u001b[0;34m\u001b[0m\u001b[0;34m\u001b[0m\u001b[0;34m\u001b[0m\u001b[0m\n\u001b[0;32m---> 34\u001b[0;31m         \u001b[0mcmd_list\u001b[0m\u001b[0;34m[\u001b[0m\u001b[0mi\u001b[0m\u001b[0;34m]\u001b[0m \u001b[0;34m+=\u001b[0m \u001b[0;36m1\u001b[0m\u001b[0;34m\u001b[0m\u001b[0;34m\u001b[0m\u001b[0m\n\u001b[0m\u001b[1;32m     35\u001b[0m         \u001b[0mcmd\u001b[0m \u001b[0;34m=\u001b[0m \u001b[0mlines\u001b[0m\u001b[0;34m[\u001b[0m\u001b[0mi\u001b[0m\u001b[0;34m]\u001b[0m\u001b[0;34m.\u001b[0m\u001b[0msplit\u001b[0m\u001b[0;34m(\u001b[0m\u001b[0;34m)\u001b[0m\u001b[0;34m\u001b[0m\u001b[0;34m\u001b[0m\u001b[0m\n\u001b[1;32m     36\u001b[0m \u001b[0;34m\u001b[0m\u001b[0m\n",
      "\u001b[0;31mIndexError\u001b[0m: list index out of range"
     ]
    }
   ],
   "source": [
    "# whenever a command is executed add 1 to its place on the list\n",
    "# when a command == 2 stop and report the acc value\n",
    "cmd_list = ([0] * len(lines))\n",
    "nop_list_try = []\n",
    "jmp_list_try = []\n",
    "nop_list_failed = []\n",
    "jmp_list_failed = []\n",
    "\n",
    "i = 0\n",
    "j = 0\n",
    "acc = 0\n",
    "\n",
    "\n",
    "\n",
    "# adding that the program should exit when i is greater than the length of lines\n",
    "while i < len(lines):\n",
    "    #print(acc)\n",
    "    # start with testing the nop list\n",
    "    if len(nop_list_try) > 0:\n",
    "        j = int(nop_list_try.pop())\n",
    "        nop_list_failed.append(j)\n",
    "        \n",
    "    elif len(jmp_list_try) > 0:\n",
    "        j = int(jmp_list_try.pop())\n",
    "        jmp_list_failed.append(j)\n",
    "    \n",
    "    # reset counters\n",
    "    cmd_list = ([0] * len(lines))\n",
    "    acc = 0\n",
    "    i = 0\n",
    "    \n",
    "    while 2 not in cmd_list:\n",
    "        # add current cmd to the cmd_list\n",
    "        cmd_list[i] += 1\n",
    "        cmd = lines[i].split()\n",
    "    \n",
    "        if cmd[0] == \"nop\":\n",
    "            # this means it should be a jmp instead\n",
    "            if j == i and j != 0:\n",
    "                i += int(cmd[1])\n",
    "            # perform normal nop\n",
    "            else:\n",
    "                if int(cmd[1]) != 0 and i not in nop_list_failed:\n",
    "                    nop_list_try.append(i)\n",
    "                i += 1\n",
    "        elif cmd[0] == \"acc\":\n",
    "            i += 1\n",
    "            # double check this isnt the 2nd run for the cmd\n",
    "            if 2 not in cmd_list:\n",
    "                acc += int(cmd[1])\n",
    "        elif cmd[0] == \"jmp\":\n",
    "            if j == i and j != 0:\n",
    "                i += 1\n",
    "            else:\n",
    "                if i not in jmp_list_failed:\n",
    "                    jmp_list_try.append(i)\n",
    "                i += int(cmd[1])"
   ]
  },
  {
   "cell_type": "code",
   "execution_count": 5,
   "metadata": {},
   "outputs": [
    {
     "name": "stdout",
     "output_type": "stream",
     "text": [
      "780\n"
     ]
    }
   ],
   "source": [
    "print(acc)"
   ]
  },
  {
   "cell_type": "code",
   "execution_count": 6,
   "metadata": {},
   "outputs": [
    {
     "name": "stdout",
     "output_type": "stream",
     "text": [
      "3\n",
      "609\n"
     ]
    }
   ],
   "source": [
    "print(len(nop_list_try))\n",
    "print(len(nop_list_failed))"
   ]
  },
  {
   "cell_type": "code",
   "execution_count": 7,
   "metadata": {},
   "outputs": [
    {
     "name": "stdout",
     "output_type": "stream",
     "text": [
      "30343\n",
      "64\n"
     ]
    }
   ],
   "source": [
    "print(len(jmp_list_try))\n",
    "print(len(jmp_list_failed))"
   ]
  },
  {
   "cell_type": "code",
   "execution_count": null,
   "metadata": {},
   "outputs": [],
   "source": []
  }
 ],
 "metadata": {
  "kernelspec": {
   "display_name": "Python 3",
   "language": "python",
   "name": "python3"
  },
  "language_info": {
   "codemirror_mode": {
    "name": "ipython",
    "version": 3
   },
   "file_extension": ".py",
   "mimetype": "text/x-python",
   "name": "python",
   "nbconvert_exporter": "python",
   "pygments_lexer": "ipython3",
   "version": "3.7.7"
  }
 },
 "nbformat": 4,
 "nbformat_minor": 4
}
