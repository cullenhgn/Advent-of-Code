{
 "cells": [
  {
   "cell_type": "markdown",
   "metadata": {},
   "source": [
    "## --- Day 7: Handy Haversacks ---\n",
    "\n",
    "You land at the regional airport in time for your next flight. In fact, it looks like you'll even have time to grab some food: all flights are currently delayed due to issues in luggage processing.\n",
    "\n",
    "Due to recent aviation regulations, many rules (your puzzle input) are being enforced about bags and their contents; bags must be color-coded and must contain specific quantities of other color-coded bags. Apparently, nobody responsible for these regulations considered how long they would take to enforce!\n",
    "\n",
    "For example, consider the following rules:\n",
    "```\n",
    "light red bags contain 1 bright white bag, 2 muted yellow bags.\n",
    "dark orange bags contain 3 bright white bags, 4 muted yellow bags.\n",
    "bright white bags contain 1 shiny gold bag.\n",
    "muted yellow bags contain 2 shiny gold bags, 9 faded blue bags.\n",
    "shiny gold bags contain 1 dark olive bag, 2 vibrant plum bags.\n",
    "dark olive bags contain 3 faded blue bags, 4 dotted black bags.\n",
    "vibrant plum bags contain 5 faded blue bags, 6 dotted black bags.\n",
    "faded blue bags contain no other bags.\n",
    "dotted black bags contain no other bags.\n",
    "```\n",
    "These rules specify the required contents for 9 bag types. In this example, every faded blue bag is empty, every vibrant plum bag contains 11 bags (5 faded blue and 6 dotted black), and so on.\n",
    "\n",
    "You have a shiny gold bag. If you wanted to carry it in at least one other bag, how many different bag colors would be valid for the outermost bag? (In other words: how many colors can, eventually, contain at least one shiny gold bag?)\n",
    "\n",
    "In the above rules, the following options would be available to you:\n",
    "* A bright white bag, which can hold your shiny gold bag directly.\n",
    "* A muted yellow bag, which can hold your shiny gold bag directly, plus some other bags.\n",
    "* A dark orange bag, which can hold bright white and muted yellow bags, either of which could then hold your shiny gold bag.\n",
    "* A light red bag, which can hold bright white and muted yellow bags, either of which could then hold your shiny gold bag.\n",
    "* So, in this example, the number of bag colors that can eventually contain at least one shiny gold bag is 4.\n",
    "\n",
    "How many bag colors can eventually contain at least one shiny gold bag? (The list of rules is quite long; make sure you get all of it.)"
   ]
  },
  {
   "cell_type": "code",
   "execution_count": 29,
   "metadata": {},
   "outputs": [],
   "source": [
    "file = open(\"day7_matt.txt\", \"r\")\n",
    "\n",
    "lines = file.readlines()\n",
    "lines = [i.replace('\\n','') for i in lines]\n",
    "lines = [i.replace('bags','') for i in lines]\n",
    "lines = [i.replace('contain','') for i in lines]\n",
    "lines = [i.replace('.','') for i in lines]\n",
    "lines = [i.replace(',','') for i in lines]"
   ]
  },
  {
   "cell_type": "code",
   "execution_count": 30,
   "metadata": {},
   "outputs": [
    {
     "name": "stdout",
     "output_type": "stream",
     "text": [
      "faded plum   5 wavy cyan \n",
      "dull aqua   4 dark fuchsia  1 shiny purple bag\n",
      "dotted olive   1 striped gray bag\n",
      "vibrant brown   4 dark tan  4 mirrored gray \n",
      "shiny black   3 mirrored black \n",
      "dull bronze   2 plaid aqua  4 shiny magenta  2 faded green  3 dotted gold \n",
      "wavy plum   5 dim indigo \n",
      "drab brown   5 clear fuchsia \n",
      "vibrant maroon   3 shiny coral  1 dim indigo bag 4 muted crimson  5 clear black \n",
      "posh magenta   no other \n"
     ]
    },
    {
     "data": {
      "text/plain": [
       "[None, None, None, None, None, None, None, None, None, None]"
      ]
     },
     "execution_count": 30,
     "metadata": {},
     "output_type": "execute_result"
    }
   ],
   "source": [
    "[print(i) for i in lines[0:10]]"
   ]
  },
  {
   "cell_type": "code",
   "execution_count": 31,
   "metadata": {},
   "outputs": [],
   "source": [
    "# create a dictionary of dictionaries to store all the rules\n",
    "rules = {}\n",
    "\n",
    "for i in lines:\n",
    "    bags = i.split()\n",
    "    bags_d = {}\n",
    "    \n",
    "    for j in range(len(bags)):\n",
    "        if bags[j].isdigit() == True:\n",
    "            bags_d[bags[j+1] + \" \" + bags[j+2]] = int(bags[j])\n",
    "        elif bags[j] == \"no\":\n",
    "            bags_d = {\"no other\": 0}\n",
    "    \n",
    "    rules[bags[0] + \" \" + bags[1]] = bags_d\n",
    "\n",
    "# example\n",
    "# {'faded yellow': {'mirrored fuchsia': 4, 'dotted indigo': 4, 'faded orange': 3, 'plaid crimson': 5}}"
   ]
  },
  {
   "cell_type": "code",
   "execution_count": 32,
   "metadata": {},
   "outputs": [
    {
     "name": "stdout",
     "output_type": "stream",
     "text": [
      "{'dark indigo': 2}\n",
      "{'clear salmon': 4, 'light cyan': 1, 'wavy tomato': 5}\n"
     ]
    }
   ],
   "source": [
    "print(rules[\"dark olive\"])\n",
    "print(rules[\"faded blue\"])"
   ]
  },
  {
   "cell_type": "code",
   "execution_count": 25,
   "metadata": {},
   "outputs": [],
   "source": [
    "def findshiny(inputdict):\n",
    "    if \"shiny gold\" in inputdict:\n",
    "        return(1)\n",
    "    elif \"no other\" in inputdict:\n",
    "        return(0)\n",
    "    else:\n",
    "        for key in inputdict:\n",
    "            return(findshiny(rules[key]))"
   ]
  },
  {
   "cell_type": "code",
   "execution_count": 33,
   "metadata": {},
   "outputs": [],
   "source": [
    "shinycount = {}\n",
    "answer = 0\n",
    "\n",
    "for i in rules:\n",
    "    shinycount[i] = findshiny(rules[i])\n",
    "    \n",
    "for key in shinycount:\n",
    "    if shinycount[key] == 1:\n",
    "        answer += 1"
   ]
  },
  {
   "cell_type": "code",
   "execution_count": 27,
   "metadata": {},
   "outputs": [
    {
     "name": "stdout",
     "output_type": "stream",
     "text": [
      "{'faded plum': 0, 'dull aqua': 0, 'dotted olive': 0, 'vibrant brown': 0, 'shiny black': 0, 'dull bronze': 0, 'wavy plum': 0, 'drab brown': 0, 'vibrant maroon': 0, 'posh magenta': 0, 'dull brown': 0, 'pale gray': 0, 'plaid turquoise': 0, 'dotted silver': 0, 'light red': 0, 'shiny brown': 0, 'plaid plum': 0, 'vibrant lavender': 0, 'muted yellow': 0, 'light beige': 0, 'muted indigo': 0, 'dim bronze': 0, 'shiny teal': 1, 'pale aqua': 1, 'plaid violet': 1, 'dotted maroon': 0, 'dim chartreuse': 1, 'plaid gold': 0, 'faded tomato': 0, 'posh plum': 0, 'drab bronze': 0, 'muted blue': 0, 'striped indigo': 0, 'shiny tan': 0, 'dim red': 0, 'plaid gray': 0, 'dotted white': 0, 'plaid tan': 0, 'vibrant black': 0, 'drab purple': 0, 'mirrored beige': 0, 'vibrant olive': 0, 'drab green': 0, 'faded turquoise': 0, 'shiny maroon': 0, 'dull white': 0, 'dim white': 0, 'clear beige': 0, 'plaid tomato': 0, 'bright teal': 1, 'dotted salmon': 0, 'light gold': 0, 'faded cyan': 0, 'drab cyan': 0, 'dotted black': 0, 'faded purple': 0, 'dim violet': 0, 'wavy gray': 0, 'posh tan': 0, 'mirrored magenta': 0, 'plaid brown': 0, 'drab orange': 0, 'dim green': 0, 'faded teal': 1, 'dim gray': 0, 'light crimson': 0, 'clear white': 0, 'drab magenta': 0, 'plaid silver': 0, 'bright bronze': 0, 'drab maroon': 0, 'dark fuchsia': 0, 'vibrant salmon': 0, 'shiny crimson': 0, 'plaid crimson': 0, 'dim turquoise': 0, 'clear crimson': 0, 'pale tomato': 0, 'dim orange': 0, 'mirrored orange': 0, 'striped turquoise': 0, 'dotted coral': 0, 'wavy maroon': 0, 'mirrored indigo': 0, 'wavy indigo': 0, 'striped tomato': 0, 'pale lime': 0, 'muted maroon': 0, 'drab lavender': 0, 'bright fuchsia': 1, 'wavy beige': 0, 'shiny olive': 0, 'posh coral': 0, 'dark green': 0, 'shiny green': 0, 'clear coral': 0, 'dull salmon': 0, 'dark lavender': 0, 'bright silver': 0, 'posh green': 0, 'dotted fuchsia': 0, 'dim fuchsia': 0, 'dotted cyan': 0, 'dark beige': 0, 'striped magenta': 0, 'striped blue': 0, 'light silver': 0, 'pale indigo': 0, 'mirrored turquoise': 0, 'striped beige': 0, 'pale silver': 0, 'dark lime': 1, 'faded coral': 0, 'mirrored lavender': 0, 'bright crimson': 0, 'striped gray': 0, 'dotted magenta': 0, 'posh white': 0, 'striped red': 0, 'pale white': 0, 'shiny coral': 0, 'dark magenta': 0, 'light gray': 1, 'dim gold': 0, 'dim crimson': 0, 'wavy tan': 0, 'posh brown': 0, 'bright plum': 0, 'faded black': 0, 'mirrored yellow': 1, 'muted tan': 1, 'drab white': 0, 'dull black': 0, 'posh maroon': 0, 'drab coral': 0, 'posh indigo': 0, 'drab aqua': 0, 'drab crimson': 0, 'drab silver': 0, 'clear salmon': 1, 'wavy chartreuse': 0, 'dull plum': 0, 'faded gray': 0, 'striped teal': 0, 'clear lavender': 0, 'mirrored maroon': 0, 'muted turquoise': 0, 'dark white': 1, 'drab red': 0, 'muted teal': 0, 'wavy red': 0, 'striped olive': 0, 'dull teal': 1, 'light black': 0, 'clear orange': 0, 'pale yellow': 0, 'posh cyan': 0, 'drab tomato': 0, 'pale orange': 0, 'dull tomato': 0, 'pale turquoise': 0, 'plaid maroon': 0, 'vibrant beige': 0, 'bright purple': 0, 'dull coral': 0, 'drab gray': 0, 'dull lavender': 0, 'striped maroon': 0, 'mirrored silver': 0, 'faded yellow': 0, 'striped purple': 0, 'clear gray': 0, 'plaid cyan': 0, 'bright orange': 0, 'dotted turquoise': 0, 'vibrant turquoise': 0, 'striped lime': 1, 'light violet': 0, 'striped orange': 0, 'drab turquoise': 0, 'pale salmon': 0, 'shiny yellow': 0, 'plaid lime': 0, 'muted cyan': 0, 'dull cyan': 0, 'pale beige': 0, 'shiny chartreuse': 0, 'dark silver': 0, 'mirrored violet': 0, 'clear aqua': 0, 'plaid teal': 0, 'wavy olive': 0, 'pale lavender': 0, 'shiny blue': 0, 'light coral': 0, 'pale brown': 0, 'vibrant tomato': 0, 'dull olive': 1, 'light chartreuse': 0, 'posh gray': 0, 'bright yellow': 1, 'bright gold': 0, 'dotted red': 0, 'clear brown': 1, 'light plum': 0, 'dim purple': 0, 'dull yellow': 0, 'shiny gold': 0, 'mirrored crimson': 0, 'shiny lavender': 0, 'vibrant cyan': 0, 'wavy gold': 0, 'dark cyan': 0, 'posh lime': 0, 'posh purple': 0, 'pale magenta': 0, 'dim plum': 0, 'plaid indigo': 0, 'dark blue': 1, 'dull red': 0, 'striped yellow': 0, 'vibrant magenta': 0, 'plaid red': 0, 'wavy orange': 0, 'pale green': 1, 'dotted chartreuse': 0, 'light turquoise': 0, 'shiny violet': 0, 'light white': 0, 'muted beige': 0, 'faded silver': 0, 'faded red': 0, 'shiny bronze': 0, 'dull gold': 0, 'muted olive': 0, 'dotted bronze': 1, 'shiny orange': 0, 'wavy salmon': 0, 'wavy crimson': 0, 'bright coral': 0, 'dotted crimson': 0, 'bright violet': 0, 'drab blue': 1, 'posh salmon': 0, 'dim coral': 0, 'dark aqua': 0, 'dark orange': 0, 'vibrant red': 0, 'muted lime': 0, 'clear tan': 0, 'vibrant coral': 1, 'dark olive': 0, 'dotted blue': 0, 'bright maroon': 0, 'bright cyan': 0, 'plaid olive': 0, 'plaid chartreuse': 1, 'dull maroon': 0, 'light fuchsia': 0, 'dull orange': 0, 'dull blue': 0, 'plaid yellow': 1, 'clear black': 0, 'muted coral': 0, 'plaid magenta': 0, 'clear tomato': 0, 'clear yellow': 0, 'dark gray': 0, 'light magenta': 0, 'shiny indigo': 0, 'muted gray': 0, 'wavy lavender': 0, 'faded olive': 1, 'muted crimson': 0, 'drab chartreuse': 0, 'wavy cyan': 0, 'mirrored plum': 0, 'plaid lavender': 0, 'muted gold': 0, 'faded bronze': 0, 'clear turquoise': 0, 'vibrant gray': 0, 'bright tan': 0, 'pale bronze': 0, 'clear plum': 0, 'posh turquoise': 0, 'posh teal': 0, 'dim yellow': 0, 'faded lavender': 0, 'wavy magenta': 1, 'dim brown': 0, 'light lime': 0, 'striped silver': 0, 'bright brown': 0, 'vibrant fuchsia': 1, 'plaid purple': 0, 'wavy violet': 0, 'dark maroon': 0, 'pale coral': 0, 'dark black': 0, 'plaid bronze': 0, 'faded orange': 0, 'light lavender': 0, 'dull chartreuse': 0, 'dark gold': 0, 'dim black': 0, 'plaid salmon': 0, 'vibrant bronze': 0, 'wavy brown': 0, 'dotted lavender': 0, 'dotted gold': 0, 'faded brown': 0, 'light yellow': 0, 'striped salmon': 0, 'light blue': 0, 'faded gold': 0, 'shiny aqua': 0, 'shiny lime': 0, 'vibrant tan': 0, 'vibrant aqua': 0, 'vibrant teal': 0, 'light maroon': 0, 'faded crimson': 0, 'light teal': 0, 'mirrored coral': 0, 'muted black': 0, 'striped gold': 0, 'light purple': 0, 'dull silver': 0, 'clear bronze': 0, 'wavy yellow': 0, 'muted purple': 0, 'plaid aqua': 0, 'drab plum': 0, 'muted orange': 1, 'dim silver': 0, 'pale tan': 0, 'wavy tomato': 0, 'posh bronze': 0, 'clear blue': 0, 'striped plum': 1, 'muted salmon': 0, 'light aqua': 0, 'bright blue': 0, 'light brown': 0, 'light salmon': 0, 'posh beige': 1, 'dotted orange': 0, 'wavy purple': 0, 'dark coral': 0, 'dim lime': 0, 'pale plum': 0, 'dim beige': 0, 'drab tan': 0, 'posh blue': 0, 'drab violet': 0, 'shiny plum': 0, 'pale fuchsia': 0, 'clear fuchsia': 0, 'mirrored lime': 0, 'plaid white': 0, 'striped violet': 0, 'dark purple': 1, 'mirrored blue': 0, 'pale black': 0, 'dark brown': 0, 'muted lavender': 0, 'muted bronze': 0, 'posh violet': 0, 'clear green': 0, 'dotted plum': 1, 'drab olive': 0, 'wavy turquoise': 0, 'dark violet': 0, 'posh gold': 0, 'dim cyan': 0, 'posh red': 0, 'dull tan': 0, 'faded indigo': 0, 'clear violet': 0, 'clear indigo': 0, 'bright turquoise': 0, 'muted tomato': 1, 'posh silver': 0, 'mirrored olive': 0, 'shiny tomato': 0, 'striped coral': 0, 'mirrored chartreuse': 0, 'pale maroon': 0, 'striped black': 0, 'dim maroon': 0, 'bright beige': 0, 'shiny gray': 1, 'drab lime': 0, 'dull gray': 0, 'light olive': 1, 'vibrant violet': 0, 'posh lavender': 0, 'plaid coral': 0, 'vibrant blue': 0, 'dim aqua': 0, 'wavy bronze': 0, 'muted plum': 0, 'dull turquoise': 0, 'plaid blue': 0, 'dotted tan': 1, 'plaid black': 0, 'light cyan': 0, 'dull fuchsia': 0, 'dark turquoise': 0, 'vibrant silver': 0, 'dotted tomato': 0, 'vibrant white': 0, 'shiny fuchsia': 0, 'wavy fuchsia': 0, 'dotted gray': 0, 'bright tomato': 0, 'clear chartreuse': 0, 'dim teal': 0, 'dotted yellow': 0, 'dark indigo': 0, 'wavy black': 0, 'striped green': 0, 'dull lime': 0, 'faded chartreuse': 0, 'dark yellow': 0, 'plaid beige': 1, 'faded maroon': 0, 'muted silver': 1, 'pale violet': 0, 'dim olive': 0, 'mirrored bronze': 0, 'dull green': 0, 'bright gray': 0, 'light indigo': 0, 'bright magenta': 0, 'posh crimson': 0, 'vibrant plum': 0, 'wavy lime': 0, 'shiny silver': 0, 'dark tan': 0, 'mirrored brown': 0, 'muted brown': 0, 'posh black': 0, 'wavy aqua': 0, 'vibrant chartreuse': 0, 'wavy silver': 0, 'shiny salmon': 0, 'clear purple': 0, 'clear cyan': 0, 'wavy coral': 0, 'wavy green': 0, 'mirrored gold': 0, 'muted fuchsia': 0, 'clear maroon': 0, 'faded salmon': 0, 'striped aqua': 0, 'plaid fuchsia': 0, 'pale chartreuse': 0, 'shiny beige': 0, 'posh aqua': 0, 'dull magenta': 0, 'posh tomato': 0, 'clear red': 0, 'dotted aqua': 0, 'clear olive': 0, 'dotted green': 0, 'clear teal': 0, 'plaid orange': 0, 'pale teal': 1, 'posh chartreuse': 0, 'pale red': 0, 'faded violet': 0, 'faded fuchsia': 0, 'dotted brown': 0, 'dark teal': 0, 'bright salmon': 0, 'pale blue': 1, 'dim tan': 1, 'dull beige': 0, 'clear magenta': 0, 'bright black': 0, 'muted aqua': 0, 'faded blue': 1, 'dotted indigo': 0, 'striped chartreuse': 0, 'dim indigo': 0, 'dotted purple': 0, 'muted chartreuse': 0, 'shiny purple': 0, 'faded white': 0, 'muted red': 0, 'mirrored tan': 0, 'dim blue': 0, 'bright indigo': 0, 'striped crimson': 0, 'light orange': 0, 'posh yellow': 0, 'dotted beige': 0, 'faded aqua': 0, 'shiny red': 1, 'light tomato': 0, 'bright olive': 0, 'mirrored white': 0, 'posh olive': 0, 'vibrant lime': 0, 'striped brown': 0, 'striped lavender': 0, 'wavy white': 0, 'dark bronze': 0, 'mirrored black': 0, 'shiny magenta': 0, 'light bronze': 0, 'mirrored gray': 0, 'bright lavender': 0, 'drab yellow': 0, 'dark chartreuse': 0, 'vibrant indigo': 0, 'plaid green': 0, 'mirrored purple': 0, 'vibrant yellow': 0, 'pale gold': 0, 'shiny cyan': 0, 'dim salmon': 0, 'dark crimson': 0, 'vibrant gold': 0, 'faded magenta': 0, 'drab black': 1, 'bright green': 0, 'bright aqua': 0, 'pale olive': 0, 'mirrored fuchsia': 0, 'mirrored red': 0, 'wavy blue': 0, 'clear silver': 0, 'muted white': 0, 'dim tomato': 0, 'drab beige': 0, 'clear gold': 0, 'vibrant orange': 0, 'striped tan': 0, 'bright lime': 0, 'bright red': 0, 'vibrant green': 0, 'light tan': 0, 'striped white': 0, 'dull violet': 0, 'drab salmon': 0, 'mirrored cyan': 0, 'wavy teal': 0, 'vibrant purple': 0, 'faded beige': 0, 'faded lime': 0, 'mirrored green': 0, 'light green': 0, 'pale crimson': 0, 'mirrored aqua': 0, 'dull crimson': 0, 'dull purple': 0, 'bright white': 0, 'drab indigo': 0, 'striped fuchsia': 0, 'dark tomato': 0, 'mirrored tomato': 0, 'dark plum': 0, 'dark salmon': 0, 'dotted lime': 0, 'dark red': 0, 'dim lavender': 0, 'striped cyan': 0, 'dull indigo': 0, 'faded green': 0, 'drab fuchsia': 0, 'drab gold': 0, 'dotted violet': 0, 'shiny turquoise': 0, 'muted green': 0, 'pale purple': 0, 'posh fuchsia': 0, 'drab teal': 0, 'mirrored teal': 0, 'muted violet': 0, 'mirrored salmon': 0, 'vibrant crimson': 0, 'dotted teal': 0, 'posh orange': 0, 'striped bronze': 0, 'clear lime': 0, 'muted magenta': 0, 'bright chartreuse': 0, 'dim magenta': 0, 'pale cyan': 0, 'shiny white': 0, 'faded tan': 0}\n"
     ]
    }
   ],
   "source": [
    "print(shinycount)"
   ]
  },
  {
   "cell_type": "code",
   "execution_count": 34,
   "metadata": {},
   "outputs": [
    {
     "name": "stdout",
     "output_type": "stream",
     "text": [
      "45\n"
     ]
    }
   ],
   "source": [
    "print(answer)"
   ]
  },
  {
   "cell_type": "code",
   "execution_count": 35,
   "metadata": {},
   "outputs": [],
   "source": [
    "shinies = {}\n",
    "for i in rules:\n",
    "    if \"shiny gold\" in rules[i]:\n",
    "        shinies[i] = rules[i]\n",
    "        "
   ]
  },
  {
   "cell_type": "code",
   "execution_count": 36,
   "metadata": {},
   "outputs": [
    {
     "name": "stdout",
     "output_type": "stream",
     "text": [
      "{'bright teal': {'shiny gold': 5, 'clear beige': 4, 'vibrant chartreuse': 5}, 'striped lime': {'shiny gold': 1}, 'dark blue': {'bright olive': 1, 'dull bronze': 1, 'shiny gold': 1}, 'drab blue': {'shiny gold': 5, 'shiny brown': 1, 'dark silver': 4}, 'dark purple': {'shiny gold': 2, 'faded blue': 3}, 'pale blue': {'shiny gold': 4, 'clear white': 2, 'dotted coral': 1}}\n"
     ]
    }
   ],
   "source": [
    "print(shinies)"
   ]
  },
  {
   "cell_type": "code",
   "execution_count": 37,
   "metadata": {},
   "outputs": [
    {
     "data": {
      "text/plain": [
       "6"
      ]
     },
     "execution_count": 37,
     "metadata": {},
     "output_type": "execute_result"
    }
   ],
   "source": [
    "len(shinies)"
   ]
  },
  {
   "cell_type": "code",
   "execution_count": null,
   "metadata": {},
   "outputs": [],
   "source": []
  }
 ],
 "metadata": {
  "kernelspec": {
   "display_name": "Python 3",
   "language": "python",
   "name": "python3"
  },
  "language_info": {
   "codemirror_mode": {
    "name": "ipython",
    "version": 3
   },
   "file_extension": ".py",
   "mimetype": "text/x-python",
   "name": "python",
   "nbconvert_exporter": "python",
   "pygments_lexer": "ipython3",
   "version": "3.7.7"
  }
 },
 "nbformat": 4,
 "nbformat_minor": 4
}
