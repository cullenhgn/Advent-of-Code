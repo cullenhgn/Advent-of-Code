{
 "cells": [
  {
   "cell_type": "markdown",
   "metadata": {},
   "source": [
    "## --- Day 7: Handy Haversacks ---\n",
    "\n",
    "You land at the regional airport in time for your next flight. In fact, it looks like you'll even have time to grab some food: all flights are currently delayed due to issues in luggage processing.\n",
    "\n",
    "Due to recent aviation regulations, many rules (your puzzle input) are being enforced about bags and their contents; bags must be color-coded and must contain specific quantities of other color-coded bags. Apparently, nobody responsible for these regulations considered how long they would take to enforce!\n",
    "\n",
    "For example, consider the following rules:\n",
    "```\n",
    "light red bags contain 1 bright white bag, 2 muted yellow bags.\n",
    "dark orange bags contain 3 bright white bags, 4 muted yellow bags.\n",
    "bright white bags contain 1 shiny gold bag.\n",
    "muted yellow bags contain 2 shiny gold bags, 9 faded blue bags.\n",
    "shiny gold bags contain 1 dark olive bag, 2 vibrant plum bags.\n",
    "dark olive bags contain 3 faded blue bags, 4 dotted black bags.\n",
    "vibrant plum bags contain 5 faded blue bags, 6 dotted black bags.\n",
    "faded blue bags contain no other bags.\n",
    "dotted black bags contain no other bags.\n",
    "```\n",
    "These rules specify the required contents for 9 bag types. In this example, every faded blue bag is empty, every vibrant plum bag contains 11 bags (5 faded blue and 6 dotted black), and so on.\n",
    "\n",
    "You have a shiny gold bag. If you wanted to carry it in at least one other bag, how many different bag colors would be valid for the outermost bag? (In other words: how many colors can, eventually, contain at least one shiny gold bag?)\n",
    "\n",
    "In the above rules, the following options would be available to you:\n",
    "* A bright white bag, which can hold your shiny gold bag directly.\n",
    "* A muted yellow bag, which can hold your shiny gold bag directly, plus some other bags.\n",
    "* A dark orange bag, which can hold bright white and muted yellow bags, either of which could then hold your shiny gold bag.\n",
    "* A light red bag, which can hold bright white and muted yellow bags, either of which could then hold your shiny gold bag.\n",
    "* So, in this example, the number of bag colors that can eventually contain at least one shiny gold bag is 4.\n",
    "\n",
    "How many bag colors can eventually contain at least one shiny gold bag? (The list of rules is quite long; make sure you get all of it.)"
   ]
  },
  {
   "cell_type": "code",
   "execution_count": 1,
   "metadata": {},
   "outputs": [],
   "source": [
    "file = open(\"day7.txt\", \"r\")\n",
    "\n",
    "lines = file.readlines()\n",
    "lines = [i.replace('\\n','') for i in lines]\n",
    "lines = [i.replace('bags','') for i in lines]\n",
    "lines = [i.replace('contain','') for i in lines]\n",
    "lines = [i.replace('.','') for i in lines]\n",
    "lines = [i.replace(',','') for i in lines]"
   ]
  },
  {
   "cell_type": "code",
   "execution_count": 2,
   "metadata": {},
   "outputs": [
    {
     "name": "stdout",
     "output_type": "stream",
     "text": [
      "faded yellow   4 mirrored fuchsia  4 dotted indigo  3 faded orange  5 plaid crimson \n",
      "striped olive   4 dark crimson \n",
      "dotted indigo   4 faded black  4 clear cyan  5 vibrant teal \n",
      "plaid crimson   3 shiny gold  3 plaid gray \n",
      "muted fuchsia   3 shiny bronze \n",
      "plaid gray   no other \n",
      "dull maroon   2 posh maroon  3 wavy aqua  2 faded white  5 posh bronze \n",
      "dull red   3 striped silver  2 dark tan \n",
      "muted lavender   3 striped red \n",
      "shiny lime   1 dotted olive bag\n"
     ]
    },
    {
     "data": {
      "text/plain": [
       "[None, None, None, None, None, None, None, None, None, None]"
      ]
     },
     "execution_count": 2,
     "metadata": {},
     "output_type": "execute_result"
    }
   ],
   "source": [
    "[print(i) for i in lines[0:10]]"
   ]
  },
  {
   "cell_type": "code",
   "execution_count": 11,
   "metadata": {},
   "outputs": [],
   "source": [
    "# create a dictionary of dictionaries to store all the rules\n",
    "rules = {}\n",
    "\n",
    "for i in lines:\n",
    "    bags = i.split()\n",
    "    bags_d = {}\n",
    "    \n",
    "    for j in range(len(bags)):\n",
    "        if bags[j].isdigit() == True:\n",
    "            bags_d[bags[j+1] + \" \" + bags[j+2]] = int(bags[j])\n",
    "        elif bags[j] == \"no\":\n",
    "            bags_d = {\"no other\": 0}\n",
    "    \n",
    "    rules[bags[0] + \" \" + bags[1]] = bags_d\n",
    "\n",
    "# example\n",
    "# {'faded yellow': {'mirrored fuchsia': 4, 'dotted indigo': 4, 'faded orange': 3, 'plaid crimson': 5}}"
   ]
  },
  {
   "cell_type": "code",
   "execution_count": 4,
   "metadata": {},
   "outputs": [
    {
     "name": "stdout",
     "output_type": "stream",
     "text": [
      "{'vibrant teal': 4, 'pale magenta': 3, 'pale gray': 4}\n",
      "{'drab cyan': 5, 'plaid crimson': 1, 'light crimson': 5}\n"
     ]
    }
   ],
   "source": [
    "print(rules[\"dark olive\"])\n",
    "print(rules[\"faded blue\"])"
   ]
  },
  {
   "cell_type": "code",
   "execution_count": 5,
   "metadata": {},
   "outputs": [],
   "source": [
    "def findshiny(inputdict):\n",
    "    if \"shiny gold\" in inputdict:\n",
    "        return(1)\n",
    "    elif \"no other\" in inputdict:\n",
    "        return(0)\n",
    "    else:\n",
    "        toreturn = []\n",
    "        for key in inputdict:\n",
    "            toreturn.append(findshiny(rules[key]))\n",
    "        return(max(toreturn))"
   ]
  },
  {
   "cell_type": "code",
   "execution_count": 6,
   "metadata": {},
   "outputs": [],
   "source": [
    "answer = 0\n",
    "\n",
    "for i in rules:\n",
    "    answer += findshiny(rules[i])"
   ]
  },
  {
   "cell_type": "code",
   "execution_count": 7,
   "metadata": {},
   "outputs": [
    {
     "name": "stdout",
     "output_type": "stream",
     "text": [
      "257\n"
     ]
    }
   ],
   "source": [
    "print(answer)"
   ]
  },
  {
   "cell_type": "markdown",
   "metadata": {},
   "source": [
    "## --- Part Two ---\n",
    "\n",
    "It's getting pretty expensive to fly these days - not because of ticket prices, but because of the ridiculous number of bags you need to buy!\n",
    "\n",
    "Consider again your shiny gold bag and the rules from the above example:\n",
    "* faded blue bags contain 0 other bags.\n",
    "* dotted black bags contain 0 other bags.\n",
    "* vibrant plum bags contain 11 other bags: 5 faded blue bags and 6 dotted black bags.\n",
    "* dark olive bags contain 7 other bags: 3 faded blue bags and 4 dotted black bags.\n",
    "\n",
    "So, a single shiny gold bag must contain 1 dark olive bag (and the 7 bags within it) plus 2 vibrant plum bags (and the 11 bags within each of those): 1 + 1*7 + 2 + 2*11 = 32 bags!\n",
    "\n",
    "Of course, the actual rules have a small chance of going several levels deeper than this example; be sure to count all of the bags, even if the nesting becomes topologically impractical!\n",
    "\n",
    "Here's another example:\n",
    "```\n",
    "shiny gold bags contain 2 dark red bags.\n",
    "dark red bags contain 2 dark orange bags.\n",
    "dark orange bags contain 2 dark yellow bags.\n",
    "dark yellow bags contain 2 dark green bags.\n",
    "dark green bags contain 2 dark blue bags.\n",
    "dark blue bags contain 2 dark violet bags.\n",
    "dark violet bags contain no other bags.\n",
    "```\n",
    "In this example, a single shiny gold bag must contain 126 other bags.\n",
    "\n",
    "How many individual bags are required inside your single shiny gold bag?\n",
    "\n"
   ]
  },
  {
   "cell_type": "code",
   "execution_count": 8,
   "metadata": {},
   "outputs": [],
   "source": [
    "file = open(\"day7_example2.txt\", \"r\")\n",
    "\n",
    "lines = file.readlines()\n",
    "lines = [i.replace('\\n','') for i in lines]\n",
    "lines = [i.replace('bags','') for i in lines]\n",
    "lines = [i.replace('contain','') for i in lines]\n",
    "lines = [i.replace('.','') for i in lines]\n",
    "lines = [i.replace(',','') for i in lines]"
   ]
  },
  {
   "cell_type": "code",
   "execution_count": 9,
   "metadata": {},
   "outputs": [
    {
     "name": "stdout",
     "output_type": "stream",
     "text": [
      "shiny gold   2 dark red \n",
      "dark red   2 dark orange \n",
      "dark orange   2 dark yellow \n",
      "dark yellow   2 dark green \n",
      "dark green   2 dark blue \n",
      "dark blue   2 dark violet \n",
      "dark violet   no other \n"
     ]
    },
    {
     "data": {
      "text/plain": [
       "[None, None, None, None, None, None, None]"
      ]
     },
     "execution_count": 9,
     "metadata": {},
     "output_type": "execute_result"
    }
   ],
   "source": [
    "[print(i) for i in lines[0:10]]"
   ]
  },
  {
   "cell_type": "code",
   "execution_count": 18,
   "metadata": {},
   "outputs": [],
   "source": [
    "def shinycount(inputdict):\n",
    "    valid = []\n",
    "    count = []\n",
    "    for key, value in inputdict.items():\n",
    "        valid.append(key)\n",
    "        count.append(value)\n",
    "        \n",
    "    if \"shiny gold\" in inputdict:\n",
    "        return(1)\n",
    "    elif \"no other\" in inputdict:\n",
    "        return(0)\n",
    "    else:\n",
    "        toreturn = []\n",
    "        for key in inputdict:\n",
    "            toreturn.append(findshiny(rules[key]))\n",
    "        return(max(toreturn))"
   ]
  },
  {
   "cell_type": "code",
   "execution_count": 12,
   "metadata": {},
   "outputs": [
    {
     "name": "stdout",
     "output_type": "stream",
     "text": [
      "{'shiny gold': {'dark red': 2}, 'dark red': {'dark orange': 2}, 'dark orange': {'dark yellow': 2}, 'dark yellow': {'dark green': 2}, 'dark green': {'dark blue': 2}, 'dark blue': {'dark violet': 2}, 'dark violet': {'no other': 0}}\n"
     ]
    }
   ],
   "source": [
    "print(rules)"
   ]
  },
  {
   "cell_type": "code",
   "execution_count": 19,
   "metadata": {},
   "outputs": [
    {
     "data": {
      "text/plain": [
       "[2]"
      ]
     },
     "execution_count": 19,
     "metadata": {},
     "output_type": "execute_result"
    }
   ],
   "source": [
    "shinycount(rules[\"shiny gold\"])"
   ]
  },
  {
   "cell_type": "code",
   "execution_count": null,
   "metadata": {},
   "outputs": [],
   "source": [
    " any([i in fruit_dict1 for i in fruits])"
   ]
  }
 ],
 "metadata": {
  "kernelspec": {
   "display_name": "Python 3",
   "language": "python",
   "name": "python3"
  },
  "language_info": {
   "codemirror_mode": {
    "name": "ipython",
    "version": 3
   },
   "file_extension": ".py",
   "mimetype": "text/x-python",
   "name": "python",
   "nbconvert_exporter": "python",
   "pygments_lexer": "ipython3",
   "version": "3.7.7"
  }
 },
 "nbformat": 4,
 "nbformat_minor": 4
}
