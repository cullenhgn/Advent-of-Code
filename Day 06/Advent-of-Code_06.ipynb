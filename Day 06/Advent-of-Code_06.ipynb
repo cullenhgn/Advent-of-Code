{
 "cells": [
  {
   "cell_type": "markdown",
   "metadata": {},
   "source": [
    "## --- Day 6: Custom Customs ---\n",
    "\n",
    "As your flight approaches the regional airport where you'll switch to a much larger plane, customs declaration forms are distributed to the passengers.\n",
    "\n",
    "The form asks a series of 26 yes-or-no questions marked a through z. All you need to do is identify the questions for which anyone in your group answers \"yes\". Since your group is just you, this doesn't take very long.\n",
    "\n",
    "However, the person sitting next to you seems to be experiencing a language barrier and asks if you can help. For each of the people in their group, you write down the questions for which they answer \"yes\", one per line. For example:\n",
    "```\n",
    "abcx\n",
    "abcy\n",
    "abcz\n",
    "```\n",
    "In this group, there are 6 questions to which anyone answered \"yes\": a, b, c, x, y, and z. (Duplicate answers to the same question don't count extra; each question counts at most once.)\n",
    "\n",
    "Another group asks for your help, then another, and eventually you've collected answers from every group on the plane (your puzzle input). Each group's answers are separated by a blank line, and within each group, each person's answers are on a single line. For example:\n",
    "```\n",
    "abc\n",
    "\n",
    "a\n",
    "b\n",
    "c\n",
    "\n",
    "ab\n",
    "ac\n",
    "\n",
    "a\n",
    "a\n",
    "a\n",
    "a\n",
    "\n",
    "b\n",
    "```\n",
    "This list represents answers from five groups:\n",
    "* The first group contains one person who answered \"yes\" to 3 questions: a, b, and c.\n",
    "* The second group contains three people; combined, they answered \"yes\" to 3 questions: a, b, and c.\n",
    "* The third group contains two people; combined, they answered \"yes\" to 3 questions: a, b, and c.\n",
    "* The fourth group contains four people; combined, they answered \"yes\" to only 1 question, a.\n",
    "* The last group contains one person who answered \"yes\" to only 1 question, b.\n",
    "* In this example, the sum of these counts is 3 + 3 + 3 + 1 + 1 = 11.\n",
    "\n",
    "For each group, count the number of questions to which anyone answered \"yes\". What is the sum of those counts?"
   ]
  },
  {
   "cell_type": "code",
   "execution_count": 1,
   "metadata": {},
   "outputs": [],
   "source": [
    "# load the input data\n",
    "file = open(\"day6.txt\", 'r')\n",
    "\n",
    "# read lines into a list, remove line breaks\n",
    "lines = file.readlines()\n",
    "lines = [i.replace('\\n','') for i in lines]"
   ]
  },
  {
   "cell_type": "code",
   "execution_count": 2,
   "metadata": {},
   "outputs": [
    {
     "name": "stdout",
     "output_type": "stream",
     "text": [
      "we\n",
      "euw\n",
      "we\n",
      "\n",
      "czaxvodqbsjeytwhurpg\n",
      "gclajqykpmxfbohvtedzwrus\n",
      "\n",
      "dxoznjqhwuvblprgekyfcm\n",
      "ghbozdkxqjevwfrypcnul\n",
      "rxpjtgwvuoeqfhlkncdbyz\n"
     ]
    },
    {
     "data": {
      "text/plain": [
       "[None, None, None, None, None, None, None, None, None, None]"
      ]
     },
     "execution_count": 2,
     "metadata": {},
     "output_type": "execute_result"
    }
   ],
   "source": [
    "[print(i) for i in lines[0:10]]"
   ]
  },
  {
   "cell_type": "code",
   "execution_count": 3,
   "metadata": {},
   "outputs": [],
   "source": [
    "answercounts = []\n",
    "d = {}\n",
    "\n",
    "for i in range(len(lines)):\n",
    "    if len(lines[i]) > 0:\n",
    "        for j in lines[i]:\n",
    "            if j not in d:\n",
    "                d[j] = 1\n",
    "        if i == len(lines) - 1:\n",
    "            answercounts.append(sum(d.values()))\n",
    "            \n",
    "    else:\n",
    "        answercounts.append(sum(d.values()))\n",
    "        d = {}"
   ]
  },
  {
   "cell_type": "code",
   "execution_count": 4,
   "metadata": {},
   "outputs": [
    {
     "data": {
      "text/plain": [
       "6763"
      ]
     },
     "execution_count": 4,
     "metadata": {},
     "output_type": "execute_result"
    }
   ],
   "source": [
    "sum(answercounts)"
   ]
  },
  {
   "cell_type": "markdown",
   "metadata": {},
   "source": [
    "## --- Part Two ---\n",
    "\n",
    "As you finish the last group's customs declaration, you notice that you misread one word in the instructions:\n",
    "\n",
    "You don't need to identify the questions to which anyone answered \"yes\"; you need to identify the questions to which everyone answered \"yes\"!\n",
    "\n",
    "Using the same example as above:\n",
    "```\n",
    "abc\n",
    "\n",
    "a\n",
    "b\n",
    "c\n",
    "\n",
    "ab\n",
    "ac\n",
    "\n",
    "a\n",
    "a\n",
    "a\n",
    "a\n",
    "\n",
    "b\n",
    "```\n",
    "This list represents answers from five groups:\n",
    "* In the first group, everyone (all 1 person) answered \"yes\" to 3 questions: a, b, and c.\n",
    "* In the second group, there is no question to which everyone answered \"yes\".\n",
    "* In the third group, everyone answered yes to only 1 question, a. Since some people did not answer \"yes\" to b or c, they don't count.\n",
    "* In the fourth group, everyone answered yes to only 1 question, a.\n",
    "* In the fifth group, everyone (all 1 person) answered \"yes\" to 1 question, b.\n",
    "* In this example, the sum of these counts is 3 + 0 + 1 + 1 + 1 = 6.\n",
    "\n",
    "For each group, count the number of questions to which everyone answered \"yes\". What is the sum of those counts?"
   ]
  },
  {
   "cell_type": "code",
   "execution_count": 5,
   "metadata": {},
   "outputs": [],
   "source": [
    "answercounts = []\n",
    "currentanswers = 0\n",
    "groupcount = 0\n",
    "d = {}\n",
    "\n",
    "for i in range(len(lines)):\n",
    "    if len(lines[i]) > 0:\n",
    "        groupcount += 1\n",
    "        \n",
    "        for j in lines[i]:\n",
    "            if j not in d:\n",
    "                d[j] = 1\n",
    "            else:\n",
    "                d[j] += 1\n",
    "        if i == len(lines) - 1:\n",
    "            for key, value in d.items():\n",
    "                if groupcount == int(d[key]):\n",
    "                    currentanswers += 1\n",
    "                    \n",
    "            answercounts.append(currentanswers)\n",
    "\n",
    "    else:\n",
    "        for key, value in d.items():\n",
    "            if groupcount == int(d[key]):\n",
    "                currentanswers += 1\n",
    "                \n",
    "        answercounts.append(currentanswers)\n",
    "        d = {}\n",
    "        groupcount = 0\n",
    "        currentanswers = 0"
   ]
  },
  {
   "cell_type": "code",
   "execution_count": 6,
   "metadata": {},
   "outputs": [
    {
     "name": "stdout",
     "output_type": "stream",
     "text": [
      "[2, 20, 21, 5, 2, 10, 2, 12, 2, 20, 0, 1, 13, 0, 5, 4, 17, 19, 8, 3, 6, 17, 5, 4, 12, 0, 7, 2, 7, 1, 10, 2, 8, 0, 0, 0, 3, 12, 7, 1, 0, 4, 14, 1, 1, 5, 0, 19, 0, 1, 1, 2, 4, 0, 2, 23, 8, 2, 15, 7, 3, 11, 11, 15, 3, 6, 5, 0, 2, 16, 17, 5, 13, 3, 17, 12, 3, 3, 1, 2, 17, 4, 3, 1, 1, 2, 0, 6, 6, 5, 3, 23, 2, 0, 3, 17, 5, 8, 7, 1, 5, 8, 6, 0, 0, 20, 5, 0, 7, 4, 3, 23, 7, 1, 5, 8, 0, 5, 1, 9, 11, 5, 13, 12, 12, 1, 2, 3, 0, 0, 2, 10, 5, 4, 14, 11, 15, 8, 0, 6, 0, 3, 25, 1, 0, 18, 13, 5, 6, 9, 10, 4, 15, 2, 11, 1, 13, 3, 16, 4, 3, 0, 1, 5, 10, 17, 16, 0, 19, 9, 14, 17, 14, 0, 6, 18, 8, 2, 1, 5, 5, 8, 24, 10, 8, 5, 21, 1, 16, 1, 1, 0, 1, 20, 3, 13, 5, 13, 1, 11, 7, 7, 9, 7, 3, 3, 12, 1, 19, 16, 12, 2, 6, 3, 18, 4, 8, 0, 8, 1, 14, 2, 3, 5, 5, 1, 3, 12, 8, 2, 3, 2, 4, 8, 16, 0, 21, 1, 0, 7, 9, 7, 10, 22, 0, 2, 1, 9, 1, 8, 5, 2, 23, 2, 3, 1, 4, 8, 0, 1, 12, 10, 6, 1, 3, 1, 15, 7, 17, 0, 10, 16, 7, 1, 13, 5, 1, 3, 2, 1, 7, 6, 19, 8, 6, 2, 16, 23, 15, 5, 16, 11, 5, 11, 6, 14, 5, 5, 0, 3, 3, 1, 6, 10, 11, 4, 11, 9, 20, 24, 1, 26, 18, 8, 1, 13, 19, 4, 5, 6, 14, 9, 4, 0, 8, 3, 12, 14, 3, 3, 0, 3, 2, 19, 15, 11, 16, 13, 7, 19, 4, 9, 17, 4, 1, 6, 11, 4, 4, 4, 7, 15, 4, 0, 6, 3, 3, 0, 0, 2, 11, 2, 2, 6, 6, 1, 6, 8, 18, 3, 0, 3, 0, 2, 8, 3, 10, 5, 7, 2, 8, 2, 0, 3, 3, 0, 8, 12, 7, 7, 1, 4, 8, 11, 8, 12, 13, 5, 5, 8, 23, 17, 14, 1, 1, 6, 5, 13, 2, 0, 2, 8, 2, 5, 1, 2, 21, 20, 1, 19, 1, 6, 2, 21, 17, 13, 0, 6, 2, 1, 6, 5, 12, 5, 13, 11, 10, 10, 2, 18, 11, 1, 4, 13, 9, 16, 2, 9, 1, 1, 8, 5, 7, 11, 5, 11, 9, 3, 2, 11, 13, 3, 1, 7, 4, 2, 16, 0, 17, 15, 1, 2, 0, 4, 18, 19, 1, 13, 7, 5, 1, 9, 0, 25, 8, 8, 10, 0, 17, 4, 13, 2, 14, 3, 2]\n"
     ]
    }
   ],
   "source": [
    "print(answercounts)"
   ]
  },
  {
   "cell_type": "code",
   "execution_count": 7,
   "metadata": {},
   "outputs": [
    {
     "data": {
      "text/plain": [
       "3512"
      ]
     },
     "execution_count": 7,
     "metadata": {},
     "output_type": "execute_result"
    }
   ],
   "source": [
    "sum(answercounts)"
   ]
  },
  {
   "cell_type": "code",
   "execution_count": null,
   "metadata": {},
   "outputs": [],
   "source": []
  }
 ],
 "metadata": {
  "kernelspec": {
   "display_name": "Python 3",
   "language": "python",
   "name": "python3"
  },
  "language_info": {
   "codemirror_mode": {
    "name": "ipython",
    "version": 3
   },
   "file_extension": ".py",
   "mimetype": "text/x-python",
   "name": "python",
   "nbconvert_exporter": "python",
   "pygments_lexer": "ipython3",
   "version": "3.7.7"
  }
 },
 "nbformat": 4,
 "nbformat_minor": 4
}
