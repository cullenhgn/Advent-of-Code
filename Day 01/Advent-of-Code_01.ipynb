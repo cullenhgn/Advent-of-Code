{
 "cells": [
  {
   "cell_type": "markdown",
   "metadata": {},
   "source": [
    "## --- Day 1: Report Repair ---\n",
    "\n",
    "After saving Christmas five years in a row, you've decided to take a vacation at a nice resort on a tropical island. Surely, Christmas will go on without you.\n",
    "\n",
    "The tropical island has its own currency and is entirely cash-only. The gold coins used there have a little picture of a starfish; the locals just call them stars. None of the currency exchanges seem to have heard of them, but somehow, you'll need to find fifty of these coins by the time you arrive so you can pay the deposit on your room.\n",
    "\n",
    "To save your vacation, you need to get all fifty stars by December 25th.\n",
    "\n",
    "Collect stars by solving puzzles. Two puzzles will be made available on each day in the Advent calendar; the second puzzle is unlocked when you complete the first. Each puzzle grants one star. Good luck!\n",
    "\n",
    "Before you leave, the Elves in accounting just need you to fix your expense report (your puzzle input); apparently, something isn't quite adding up.\n",
    "\n",
    "Specifically, they need you to find the two entries that sum to 2020 and then multiply those two numbers together.\n",
    "\n",
    "For example, suppose your expense report contained the following:\n",
    "\n",
    "1721\n",
    "<br>\n",
    "979\n",
    "<br>\n",
    "366\n",
    "<br>\n",
    "299\n",
    "<br>\n",
    "675\n",
    "<br>\n",
    "1456\n",
    "\n",
    "In this list, the two entries that sum to 2020 are 1721 and 299. Multiplying them together produces 1721 * 299 = 514579, so the correct answer is 514579.\n",
    "\n",
    "Of course, your expense report is much larger. Find the two entries that sum to 2020; what do you get if you multiply them together?"
   ]
  },
  {
   "cell_type": "code",
   "execution_count": 35,
   "metadata": {},
   "outputs": [],
   "source": [
    "# load the input data\n",
    "file = open(\"day1.txt\", 'r')\n",
    "\n",
    "# read lines into a list, remove line breaks and convert to int\n",
    "lines = file.readlines()\n",
    "lines = [i.replace('\\n','') for i in lines]\n",
    "lines = [int(i) for i in lines]"
   ]
  },
  {
   "cell_type": "code",
   "execution_count": 36,
   "metadata": {},
   "outputs": [
    {
     "name": "stdout",
     "output_type": "stream",
     "text": [
      "1969\n",
      "51\n"
     ]
    }
   ],
   "source": [
    "# create placeholder variables\n",
    "num1 = 0\n",
    "num2 = 0\n",
    "\n",
    "# outer loop for the first number\n",
    "for i in lines:\n",
    "    temp1 = i\n",
    "    # inner loop the list to compare with\n",
    "    for j in lines:\n",
    "        temp2 = j\n",
    "        \n",
    "        # check if the numbers sum to 2020 then stop\n",
    "        if temp1 + temp2 == 2020:\n",
    "            num1 = temp1\n",
    "            num2 = temp2\n",
    "            break\n",
    "    \n",
    "print(num1)\n",
    "print(num2)"
   ]
  },
  {
   "cell_type": "code",
   "execution_count": 37,
   "metadata": {},
   "outputs": [
    {
     "name": "stdout",
     "output_type": "stream",
     "text": [
      "100419\n"
     ]
    }
   ],
   "source": [
    "# final result\n",
    "print(num1 * num2)"
   ]
  },
  {
   "cell_type": "markdown",
   "metadata": {},
   "source": [
    "## --- Part Two ---\n",
    "\n",
    "The Elves in accounting are thankful for your help; one of them even offers you a starfish coin they had left over from a past vacation. They offer you a second one if you can find three numbers in your expense report that meet the same criteria.\n",
    "\n",
    "Using the above example again, the three entries that sum to 2020 are 979, 366, and 675. Multiplying them together produces the answer, 241861950.\n",
    "\n",
    "In your expense report, what is the product of the three entries that sum to 2020?"
   ]
  },
  {
   "cell_type": "code",
   "execution_count": 39,
   "metadata": {},
   "outputs": [
    {
     "name": "stdout",
     "output_type": "stream",
     "text": [
      "972\n",
      "565\n",
      "483\n"
     ]
    }
   ],
   "source": [
    "# create placeholder variables\n",
    "num1 = 0\n",
    "num2 = 0\n",
    "num3 = 0\n",
    "\n",
    "# outer loop for the first number\n",
    "for i in lines:\n",
    "    temp1 = i\n",
    "    # inner loop the list to compare with\n",
    "    for j in lines:\n",
    "        temp2 = j\n",
    "        # add one more loop to find the 3rd number X.x\n",
    "        for k in lines:\n",
    "            temp3 = k\n",
    "            \n",
    "            # check if the numbers sum to 2020 then stop\n",
    "            if temp1 + temp2 + temp3 == 2020:\n",
    "                num1 = temp1\n",
    "                num2 = temp2\n",
    "                num3 = temp3\n",
    "                break\n",
    "    \n",
    "print(num1)\n",
    "print(num2)\n",
    "print(num3)"
   ]
  },
  {
   "cell_type": "code",
   "execution_count": 40,
   "metadata": {},
   "outputs": [
    {
     "name": "stdout",
     "output_type": "stream",
     "text": [
      "265253940\n"
     ]
    }
   ],
   "source": [
    "# final result\n",
    "print(num1 * num2 * num3)"
   ]
  },
  {
   "cell_type": "code",
   "execution_count": null,
   "metadata": {},
   "outputs": [],
   "source": []
  }
 ],
 "metadata": {
  "kernelspec": {
   "display_name": "Python 3",
   "language": "python",
   "name": "python3"
  },
  "language_info": {
   "codemirror_mode": {
    "name": "ipython",
    "version": 3
   },
   "file_extension": ".py",
   "mimetype": "text/x-python",
   "name": "python",
   "nbconvert_exporter": "python",
   "pygments_lexer": "ipython3",
   "version": "3.7.7"
  }
 },
 "nbformat": 4,
 "nbformat_minor": 4
}
