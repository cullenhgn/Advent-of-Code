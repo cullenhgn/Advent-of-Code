{
 "cells": [
  {
   "cell_type": "markdown",
   "metadata": {},
   "source": [
    "## --- Day 3: Toboggan Trajectory ---\n",
    "\n",
    "With the toboggan login problems resolved, you set off toward the airport. While travel by toboggan might be easy, it's certainly not safe: there's very minimal steering and the area is covered in trees. You'll need to see which angles will take you near the fewest trees.\n",
    "\n",
    "Due to the local geology, trees in this area only grow on exact integer coordinates in a grid. You make a map (your puzzle input) of the open squares (.) and trees (#) you can see. For example:\n",
    "\n",
    "* ..##.......\n",
    "* #...#...#..\n",
    "* .#....#..#.\n",
    "* ..#.#...#.#\n",
    "* .#...##..#.\n",
    "* ..#.##.....\n",
    "* .#.#.#....#\n",
    "* .#........#\n",
    "* #.##...#...\n",
    "* #...##....#\n",
    "* .#..#...#.#\n",
    "\n",
    "These aren't the only trees, though; due to something you read about once involving arboreal genetics and biome stability, the same pattern repeats to the right many times:\n",
    "\n",
    "You start on the open square (.) in the top-left corner and need to reach the bottom (below the bottom-most row on your map).\n",
    "\n",
    "The toboggan can only follow a few specific slopes (you opted for a cheaper model that prefers rational numbers); start by counting all the trees you would encounter for the slope right 3, down 1:\n",
    "\n",
    "From your starting position at the top-left, check the position that is right 3 and down 1. Then, check the position that is right 3 and down 1 from there, and so on until you go past the bottom of the map.\n",
    "\n",
    "The locations you'd check in the above example are marked here with O where there was an open square and X where there was a tree:\n",
    "\n",
    "In this example, traversing the map using this slope would cause you to encounter 7 trees.\n",
    "\n",
    "Starting at the top-left corner of your map and following a slope of right 3 and down 1, how many trees would you encounter?"
   ]
  },
  {
   "cell_type": "code",
   "execution_count": 3,
   "metadata": {},
   "outputs": [],
   "source": [
    "# load the input data\n",
    "file = open(\"day3.txt\", 'r')\n",
    "\n",
    "# read lines into a list, remove line breaks\n",
    "lines = file.readlines()\n",
    "lines = [i.replace('\\n','') for i in lines]"
   ]
  },
  {
   "cell_type": "code",
   "execution_count": 11,
   "metadata": {},
   "outputs": [
    {
     "name": "stdout",
     "output_type": "stream",
     "text": [
      ".....#.##......#..##..........#\n"
     ]
    }
   ],
   "source": [
    "print(lines[0])"
   ]
  },
  {
   "cell_type": "code",
   "execution_count": 12,
   "metadata": {},
   "outputs": [],
   "source": [
    "treeshit = 0\n",
    "\n",
    "for i in range(len(lines)):\n",
    "    templine = lines[i]\n",
    "    \n",
    "    # if the length of the treeline is less than where the position should be at\n",
    "    # add the treeline onto itself since it repeats\n",
    "    while len(templine) < i*3:\n",
    "        templine = templine+templine\n",
    "    \n",
    "    # check the current position for a tree\n",
    "    if templine[i*3] == \"#\":\n",
    "        treeshit += 1"
   ]
  },
  {
   "cell_type": "code",
   "execution_count": 13,
   "metadata": {},
   "outputs": [
    {
     "name": "stdout",
     "output_type": "stream",
     "text": [
      "276\n"
     ]
    }
   ],
   "source": [
    "print(treeshit)"
   ]
  },
  {
   "cell_type": "markdown",
   "metadata": {},
   "source": [
    "## --- Part Two ---\n",
    "\n",
    "Time to check the rest of the slopes - you need to minimize the probability of a sudden arboreal stop, after all.\n",
    "\n",
    "Determine the number of trees you would encounter if, for each of the following slopes, you start at the top-left corner and traverse the map all the way to the bottom:\n",
    "\n",
    "* Right 1, down 1.\n",
    "* Right 3, down 1. (This is the slope you already checked.)\n",
    "* Right 5, down 1.\n",
    "* Right 7, down 1.\n",
    "* Right 1, down 2.\n",
    "\n",
    "In the above example, these slopes would find 2, 7, 3, 4, and 2 tree(s) respectively; multiplied together, these produce the answer 336.\n",
    "\n",
    "What do you get if you multiply together the number of trees encountered on each of the listed slopes?"
   ]
  },
  {
   "cell_type": "code",
   "execution_count": 48,
   "metadata": {},
   "outputs": [],
   "source": [
    "treeshit = []\n",
    "slopes = [[1,1], [3,1], [5,1], [7,1], [1,2]]\n",
    "\n",
    "for j in slopes:\n",
    "    right = int(j[0])\n",
    "    down = int(j[1])\n",
    "    \n",
    "    treecount = 0\n",
    "    for i in range(len(lines)):\n",
    "        # skip a line if \n",
    "        if down == 2 and i % 2 == 1:\n",
    "            continue\n",
    "        \n",
    "        templine = lines[i]\n",
    "    \n",
    "        # if the length of the treeline is less than where the position should be at\n",
    "        # add the treeline onto itself since it repeats\n",
    "        while len(templine) - (i*right) < 1:\n",
    "            templine = templine+templine\n",
    "    \n",
    "        # check the current position for a tree\n",
    "        if down == 1 and templine[i*right] == \"#\":\n",
    "            treecount += 1\n",
    "        if down == 2 and templine[i//down] == \"#\":\n",
    "            treecount += 1\n",
    "            \n",
    "    treeshit.append(treecount)\n",
    "        "
   ]
  },
  {
   "cell_type": "code",
   "execution_count": 49,
   "metadata": {},
   "outputs": [
    {
     "name": "stdout",
     "output_type": "stream",
     "text": [
      "[100, 276, 85, 90, 37]\n"
     ]
    }
   ],
   "source": [
    "print(treeshit)"
   ]
  },
  {
   "cell_type": "code",
   "execution_count": 50,
   "metadata": {},
   "outputs": [
    {
     "name": "stdout",
     "output_type": "stream",
     "text": [
      "7812180000\n"
     ]
    }
   ],
   "source": [
    "totaltrees = 1\n",
    "\n",
    "for i in treeshit:\n",
    "    totaltrees = totaltrees * i\n",
    "    \n",
    "print(totaltrees)"
   ]
  },
  {
   "cell_type": "code",
   "execution_count": null,
   "metadata": {},
   "outputs": [],
   "source": []
  }
 ],
 "metadata": {
  "kernelspec": {
   "display_name": "Python 3",
   "language": "python",
   "name": "python3"
  },
  "language_info": {
   "codemirror_mode": {
    "name": "ipython",
    "version": 3
   },
   "file_extension": ".py",
   "mimetype": "text/x-python",
   "name": "python",
   "nbconvert_exporter": "python",
   "pygments_lexer": "ipython3",
   "version": "3.7.7"
  }
 },
 "nbformat": 4,
 "nbformat_minor": 4
}
